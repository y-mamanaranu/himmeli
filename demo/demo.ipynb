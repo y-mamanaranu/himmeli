{
 "cells": [
  {
   "cell_type": "markdown",
   "metadata": {},
   "source": [
    "# Himmeli"
   ]
  },
  {
   "cell_type": "code",
   "execution_count": null,
   "metadata": {},
   "outputs": [],
   "source": [
    "import matplotlib.pyplot as plt\n",
    "from Himmeli import Cone, Bicone, Bicone_Lack\n",
    "\n",
    "him = Cone(4, 4, 3)\n",
    "\n",
    "ax = plt.figure().add_subplot(projection='3d')\n",
    "him.plot(ax)\n",
    "plt.savefig(\"Cone-3D.png\")\n",
    "plt.show()\n",
    "\n",
    "ax = plt.figure().add_subplot()\n",
    "him.plot_expansion(ax)\n",
    "plt.savefig(\"Cone-2D.png\")\n",
    "plt.show()\n",
    "\n",
    "him = Bicone(4, 3, 4)\n",
    "\n",
    "ax = plt.figure().add_subplot(projection='3d')\n",
    "him.plot(ax)\n",
    "plt.savefig(\"Bicone-3D.png\")\n",
    "plt.show()\n",
    "\n",
    "ax = plt.figure().add_subplot()\n",
    "him.plot_expansion(ax)\n",
    "plt.savefig(\"Bicone-2D.png\")\n",
    "plt.show()\n",
    "\n",
    "him = Bicone_Lack(4, 2, 1, 5)\n",
    "\n",
    "ax = plt.figure().add_subplot(projection='3d')\n",
    "him.plot(ax)\n",
    "plt.savefig(\"Bicone_Lack-3D.png\")\n",
    "plt.show()\n",
    "\n",
    "ax = plt.figure().add_subplot()\n",
    "him.plot_expansion(ax)\n",
    "plt.savefig(\"Bicone_Lack-2D.png\")\n",
    "plt.show()"
   ]
  },
  {
   "cell_type": "code",
   "execution_count": null,
   "metadata": {},
   "outputs": [],
   "source": []
  }
 ],
 "metadata": {
  "kernelspec": {
   "display_name": "Python 3 (ipykernel)",
   "language": "python",
   "name": "python3"
  },
  "language_info": {
   "codemirror_mode": {
    "name": "ipython",
    "version": 3
   },
   "file_extension": ".py",
   "mimetype": "text/x-python",
   "name": "python",
   "nbconvert_exporter": "python",
   "pygments_lexer": "ipython3",
   "version": "3.9.7"
  }
 },
 "nbformat": 4,
 "nbformat_minor": 4
}
